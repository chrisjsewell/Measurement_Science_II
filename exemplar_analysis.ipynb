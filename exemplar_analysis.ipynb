{
 "metadata": {
  "name": "exemplar_analysis"
 },
 "nbformat": 3,
 "nbformat_minor": 0,
 "worksheets": [
  {
   "cells": [
    {
     "cell_type": "markdown",
     "metadata": {},
     "source": [
      "#Measurement Science II; Exemplar Analysis"
     ]
    },
    {
     "cell_type": "markdown",
     "metadata": {},
     "source": [
      "##Setting Up Python"
     ]
    },
    {
     "cell_type": "markdown",
     "metadata": {},
     "source": [
      "The recommended manner to analyse scientific data is using the [Anaconda](https://www.continuum.io/why-anaconda) Scientific Python Distribution, available for free download. When using this it is also suggested that you setup an isolated Python *environment* so that you can control what version of third-party packages you are using. This is acheived in the command prompt as follows;\n",
      "    \n",
      "    conda create --name mm2 ipython=0.13 tornado pyzmq numpy matplotlib\n",
      "\n",
      "For this environment I have limited the IPython version to an early version 0.13 (it is now up to v4), which is the version available on the Raspberry Pi's. `tornado` and `pyzmq` are required dependancies for IPython, `numpy` handles vector data, and `matplotlib` handles data plotting.\n",
      "\n",
      "Next you activate your environment and open this IPython Notebook, with an option to render data plots within the notebook. \n",
      "\n",
      "    source activate mm2\n",
      "    cd path/to/notebook\n",
      "    ipython notebook --pylab=inline\n",
      "\n",
      "NB: in later IPython version, this option is not needed and you would uncomment and run the following line instead."
     ]
    },
    {
     "cell_type": "code",
     "collapsed": false,
     "input": [
      "#%matplotlib inline"
     ],
     "language": "python",
     "metadata": {},
     "outputs": []
    },
    {
     "cell_type": "markdown",
     "metadata": {},
     "source": [
      "Lastly, to use the third-party packages, you must `import` them."
     ]
    },
    {
     "cell_type": "code",
     "collapsed": false,
     "input": [
      "import numpy as np\n",
      "import matplotlib.pyplot as plt\n",
      "import matplotlib as mpl\n",
      "mpl.rcParams['axes.grid'] = True\n",
      "mpl.rcParams['lines.linewidth'] = 1.5"
     ],
     "language": "python",
     "metadata": {},
     "outputs": []
    },
    {
     "cell_type": "markdown",
     "metadata": {},
     "source": [
      "## Data Reading"
     ]
    },
    {
     "cell_type": "markdown",
     "metadata": {},
     "source": [
      "Files in analysis folder;"
     ]
    },
    {
     "cell_type": "code",
     "collapsed": false,
     "input": [
      "ls"
     ],
     "language": "python",
     "metadata": {},
     "outputs": []
    },
    {
     "cell_type": "code",
     "collapsed": false,
     "input": [
      "def read_conc_intens_data(data_files, conc_conversion=1.0):\n",
      "    \"\"\" conc_conversion is conversion required to for Molar units\"\"\"\n",
      "    data_concs = []\n",
      "    data_intens = []\n",
      "    for f in data_files:\n",
      "        d = np.loadtxt(f, skiprows=2)\n",
      "        x, y = d[:,0]*conc_conversion, d[:,1]\n",
      "        if data_concs == []:\n",
      "            data_concs = x\n",
      "        else:\n",
      "            # check all files have same concentration set\n",
      "            if not (data_concs == x).all():\n",
      "                raise IOError('{0} has a different concentration set'.format(f))\n",
      "        data_intens.append(y)\n",
      "    return data_concs, np.array(data_intens)"
     ],
     "language": "python",
     "metadata": {},
     "outputs": []
    },
    {
     "cell_type": "markdown",
     "metadata": {},
     "source": [
      "## Unfolding Calculations"
     ]
    },
    {
     "cell_type": "markdown",
     "metadata": {},
     "source": [
      "Generalised for any number of experimental repeats"
     ]
    },
    {
     "cell_type": "code",
     "collapsed": false,
     "input": [
      "bind_data_files = ['urea_test1_conc.dat', 'urea_test2_conc.dat']\n",
      "bind_data_concs, bind_data_intens = read_conc_intens_data(bind_data_files, conc_conversion=1e-3)\n",
      "print bind_data_concs\n",
      "print bind_data_intens"
     ],
     "language": "python",
     "metadata": {},
     "outputs": []
    },
    {
     "cell_type": "code",
     "collapsed": false,
     "input": [
      "for i, intens in enumerate(bind_data_intens):\n",
      "    plt.scatter(bind_data_concs, intens, c=np.random.rand(3,1), label='Data {0}'.format(i+1))\n",
      "plt.xlabel('Denaturant Concentration (M)')\n",
      "plt.ylabel('Intensity')\n",
      "plt.legend();"
     ],
     "language": "python",
     "metadata": {},
     "outputs": []
    },
    {
     "cell_type": "code",
     "collapsed": false,
     "input": [
      "bind_mean_intens = np.mean(bind_data_intens,0)\n",
      "bind_std_intens = np.std(bind_data_intens,0)\n",
      "\n",
      "plt.xlabel('Denaturant Concentration (M)')\n",
      "plt.ylabel('Intensity')\n",
      "plt.errorbar(bind_data_concs,bind_mean_intens, yerr=bind_std_intens, c='g');"
     ],
     "language": "python",
     "metadata": {},
     "outputs": []
    },
    {
     "cell_type": "markdown",
     "metadata": {},
     "source": [
      "In lecture notes intensity drops for all concentrations of Urea?"
     ]
    },
    {
     "cell_type": "markdown",
     "metadata": {},
     "source": [
      "Fraction of protein in unfolded state;\n",
      "$$F_u = 1 - \\frac{I - I_u}{I_n - I_u}$$"
     ]
    },
    {
     "cell_type": "code",
     "collapsed": false,
     "input": [
      "F_us = []\n",
      "for intens in bind_data_intens:\n",
      "    F_us.append(1 - ((intens-np.min(intens))/(np.max(intens)-np.min(intens))))\n",
      "for i, F_u in enumerate(F_us):\n",
      "    plt.scatter(bind_data_concs, F_u, c=np.random.rand(3,1), label='Data {0}'.format(i+1))\n",
      "    \n",
      "plt.xlabel('Denaturant Concentration (M)')\n",
      "plt.ylabel('Fraction Unfolded')\n",
      "plt.legend();    "
     ],
     "language": "python",
     "metadata": {},
     "outputs": []
    },
    {
     "cell_type": "code",
     "collapsed": false,
     "input": [
      "bind_mean_F_u = np.mean(F_us,0)\n",
      "bind_std_F_u = np.std(F_us,0)\n",
      "\n",
      "plt.errorbar(bind_data_concs,bind_mean_F_u, yerr=bind_std_F_u, c='b')\n",
      "plt.xlabel('Denaturant Concentration (M)')\n",
      "plt.ylabel('Fraction Unfolded');"
     ],
     "language": "python",
     "metadata": {},
     "outputs": []
    },
    {
     "cell_type": "markdown",
     "metadata": {},
     "source": [
      "Fraction of protein in folded state;\n",
      "$$F_N = 1 - F_u$$\n",
      "\n",
      "Free energy becomes;\n",
      "$$\\Delta G = -RTln\\frac{F_u}{F_n}$$"
     ]
    },
    {
     "cell_type": "code",
     "collapsed": false,
     "input": [
      "R = 8.314\n",
      "T = 298\n",
      "delta_Gs = []\n",
      "for F_u in F_us:\n",
      "    F_N = 1 - F_u\n",
      "    delta_G = - R*T * np.log(F_u / F_N)\n",
      "    delta_G = delta_G / 1000. # convert to kJ/mol\n",
      "    delta_Gs.append(delta_G)\n",
      "for i, delta_G in enumerate(delta_Gs):\n",
      "    plt.scatter(bind_data_concs, delta_G, c=np.random.rand(3,1), label='Data {0}'.format(i+1))\n",
      "plt.xlabel('Denaturant Concentration (M)')\n",
      "plt.ylabel('$\\Delta$G (kJ/mol)')\n",
      "plt.legend();"
     ],
     "language": "python",
     "metadata": {},
     "outputs": []
    },
    {
     "cell_type": "markdown",
     "metadata": {},
     "source": [
      "Fit a polynomial ``p(x) = p[0] * x**deg + ... + p[deg]`` of degree `deg`\n",
      "to points `(x, y)`. Returns a vector of coefficients `p` that minimises\n",
      "the squared error."
     ]
    },
    {
     "cell_type": "code",
     "collapsed": false,
     "input": [
      "mean_dG = np.mean(delta_Gs,0)\n",
      "std_dG = np.std(delta_Gs,0)"
     ],
     "language": "python",
     "metadata": {},
     "outputs": []
    },
    {
     "cell_type": "markdown",
     "metadata": {},
     "source": [
      "By potting free energy as a function of denaturant concentration, you can to 0 M to determine free energy of unfolding;\n",
      "$$\\Delta G = \\Delta G_u^{H_2O} - m_u[Denaturant]$$"
     ]
    },
    {
     "cell_type": "code",
     "collapsed": false,
     "input": [
      "e_pts = [7,8,9,10]\n",
      "a, b = np.polyfit(bind_data_concs[e_pts],mean_dG[e_pts],1)\n",
      "plt.scatter(bind_data_concs,mean_dG)\n",
      "plt.errorbar(bind_data_concs,mean_dG,yerr=std_dG,linestyle='')\n",
      "plt.plot(bind_data_concs,b+a*bind_data_concs, 'b--')\n",
      "plt.xlabel('Denaturant Concentration (M)')\n",
      "plt.ylabel('$\\Delta$G (kJ/mol)')\n",
      "print 'Free Energy of Unfolding; {0} kJ/mol'.format(round(b,3))"
     ],
     "language": "python",
     "metadata": {},
     "outputs": []
    }
   ],
   "metadata": {}
  }
 ]
}